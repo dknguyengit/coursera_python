{
 "cells": [
  {
   "cell_type": "code",
   "execution_count": 1,
   "metadata": {},
   "outputs": [],
   "source": [
    "import numpy as np\n",
    "import pandas as pd\n",
    "import matplotlib.pyplot as plt\n",
    "%matplotlib inline"
   ]
  },
  {
   "cell_type": "code",
   "execution_count": 3,
   "metadata": {},
   "outputs": [],
   "source": [
    "df = pd.read_csv('vietdata.csv', skiprows=4)"
   ]
  },
  {
   "cell_type": "code",
   "execution_count": 108,
   "metadata": {},
   "outputs": [],
   "source": [
    "indicators = [ 'Population, total', 'GDP per capita (constant 2010 US$)', 'GDP (constant 2010 US$)']"
   ]
  },
  {
   "cell_type": "code",
   "execution_count": 109,
   "metadata": {},
   "outputs": [
    {
     "data": {
      "text/html": [
       "<div>\n",
       "<style scoped>\n",
       "    .dataframe tbody tr th:only-of-type {\n",
       "        vertical-align: middle;\n",
       "    }\n",
       "\n",
       "    .dataframe tbody tr th {\n",
       "        vertical-align: top;\n",
       "    }\n",
       "\n",
       "    .dataframe thead th {\n",
       "        text-align: right;\n",
       "    }\n",
       "</style>\n",
       "<table border=\"1\" class=\"dataframe\">\n",
       "  <thead>\n",
       "    <tr style=\"text-align: right;\">\n",
       "      <th></th>\n",
       "      <th>2008</th>\n",
       "      <th>2009</th>\n",
       "      <th>2010</th>\n",
       "      <th>2011</th>\n",
       "      <th>2012</th>\n",
       "      <th>2013</th>\n",
       "      <th>2014</th>\n",
       "      <th>2015</th>\n",
       "      <th>2016</th>\n",
       "      <th>2017</th>\n",
       "    </tr>\n",
       "  </thead>\n",
       "  <tbody>\n",
       "    <tr>\n",
       "      <th>Population, total</th>\n",
       "      <td>8.670780e+07</td>\n",
       "      <td>8.756541e+07</td>\n",
       "      <td>8.847251e+07</td>\n",
       "      <td>8.943664e+07</td>\n",
       "      <td>9.045188e+07</td>\n",
       "      <td>9.149772e+07</td>\n",
       "      <td>9.254492e+07</td>\n",
       "      <td>9.357157e+07</td>\n",
       "      <td>9.456907e+07</td>\n",
       "      <td>9.554080e+07</td>\n",
       "    </tr>\n",
       "    <tr>\n",
       "      <th>GDP per capita (constant 2010 US$)</th>\n",
       "      <td>1.191999e+03</td>\n",
       "      <td>1.244037e+03</td>\n",
       "      <td>1.310370e+03</td>\n",
       "      <td>1.377134e+03</td>\n",
       "      <td>1.433129e+03</td>\n",
       "      <td>1.493563e+03</td>\n",
       "      <td>1.565020e+03</td>\n",
       "      <td>1.651235e+03</td>\n",
       "      <td>1.735291e+03</td>\n",
       "      <td>1.834652e+03</td>\n",
       "    </tr>\n",
       "    <tr>\n",
       "      <th>GDP (constant 2010 US$)</th>\n",
       "      <td>1.033556e+11</td>\n",
       "      <td>1.089346e+11</td>\n",
       "      <td>1.159317e+11</td>\n",
       "      <td>1.231662e+11</td>\n",
       "      <td>1.296292e+11</td>\n",
       "      <td>1.366576e+11</td>\n",
       "      <td>1.448347e+11</td>\n",
       "      <td>1.545086e+11</td>\n",
       "      <td>1.641049e+11</td>\n",
       "      <td>1.752841e+11</td>\n",
       "    </tr>\n",
       "  </tbody>\n",
       "</table>\n",
       "</div>"
      ],
      "text/plain": [
       "                                            2008          2009          2010  \\\n",
       "Population, total                   8.670780e+07  8.756541e+07  8.847251e+07   \n",
       "GDP per capita (constant 2010 US$)  1.191999e+03  1.244037e+03  1.310370e+03   \n",
       "GDP (constant 2010 US$)             1.033556e+11  1.089346e+11  1.159317e+11   \n",
       "\n",
       "                                            2011          2012          2013  \\\n",
       "Population, total                   8.943664e+07  9.045188e+07  9.149772e+07   \n",
       "GDP per capita (constant 2010 US$)  1.377134e+03  1.433129e+03  1.493563e+03   \n",
       "GDP (constant 2010 US$)             1.231662e+11  1.296292e+11  1.366576e+11   \n",
       "\n",
       "                                            2014          2015          2016  \\\n",
       "Population, total                   9.254492e+07  9.357157e+07  9.456907e+07   \n",
       "GDP per capita (constant 2010 US$)  1.565020e+03  1.651235e+03  1.735291e+03   \n",
       "GDP (constant 2010 US$)             1.448347e+11  1.545086e+11  1.641049e+11   \n",
       "\n",
       "                                            2017  \n",
       "Population, total                   9.554080e+07  \n",
       "GDP per capita (constant 2010 US$)  1.834652e+03  \n",
       "GDP (constant 2010 US$)             1.752841e+11  "
      ]
     },
     "execution_count": 109,
     "metadata": {},
     "output_type": "execute_result"
    }
   ],
   "source": [
    "data = df.loc[df['Indicator Name'].isin(indicators), '2008':'2017']\n",
    "data.index = indicators\n",
    "data"
   ]
  },
  {
   "cell_type": "code",
   "execution_count": 165,
   "metadata": {},
   "outputs": [
    {
     "data": {
      "text/plain": [
       "Population, total                             95540800.0\n",
       "GDP per capita (constant 2010 US$)    1834.6515947236899\n",
       "GDP (constant 2010 US$)                 175284081081.177\n",
       "Name: 2017, dtype: object"
      ]
     },
     "execution_count": 165,
     "metadata": {},
     "output_type": "execute_result"
    }
   ],
   "source": [
    "data['2017'].astype(str)"
   ]
  },
  {
   "cell_type": "code",
   "execution_count": 110,
   "metadata": {},
   "outputs": [
    {
     "data": {
      "text/html": [
       "<div>\n",
       "<style scoped>\n",
       "    .dataframe tbody tr th:only-of-type {\n",
       "        vertical-align: middle;\n",
       "    }\n",
       "\n",
       "    .dataframe tbody tr th {\n",
       "        vertical-align: top;\n",
       "    }\n",
       "\n",
       "    .dataframe thead th {\n",
       "        text-align: right;\n",
       "    }\n",
       "</style>\n",
       "<table border=\"1\" class=\"dataframe\">\n",
       "  <thead>\n",
       "    <tr style=\"text-align: right;\">\n",
       "      <th></th>\n",
       "      <th>2008</th>\n",
       "      <th>2009</th>\n",
       "      <th>2010</th>\n",
       "      <th>2011</th>\n",
       "      <th>2012</th>\n",
       "      <th>2013</th>\n",
       "      <th>2014</th>\n",
       "      <th>2015</th>\n",
       "      <th>2016</th>\n",
       "      <th>2017</th>\n",
       "    </tr>\n",
       "  </thead>\n",
       "  <tbody>\n",
       "    <tr>\n",
       "      <th>Population, total</th>\n",
       "      <td>1.0</td>\n",
       "      <td>1.009891</td>\n",
       "      <td>1.020352</td>\n",
       "      <td>1.031472</td>\n",
       "      <td>1.043180</td>\n",
       "      <td>1.055242</td>\n",
       "      <td>1.067319</td>\n",
       "      <td>1.079160</td>\n",
       "      <td>1.090664</td>\n",
       "      <td>1.101871</td>\n",
       "    </tr>\n",
       "    <tr>\n",
       "      <th>GDP per capita (constant 2010 US$)</th>\n",
       "      <td>1.0</td>\n",
       "      <td>1.043656</td>\n",
       "      <td>1.099305</td>\n",
       "      <td>1.155315</td>\n",
       "      <td>1.202291</td>\n",
       "      <td>1.252990</td>\n",
       "      <td>1.312938</td>\n",
       "      <td>1.385265</td>\n",
       "      <td>1.455783</td>\n",
       "      <td>1.539139</td>\n",
       "    </tr>\n",
       "    <tr>\n",
       "      <th>GDP (constant 2010 US$)</th>\n",
       "      <td>1.0</td>\n",
       "      <td>1.053979</td>\n",
       "      <td>1.121679</td>\n",
       "      <td>1.191675</td>\n",
       "      <td>1.254206</td>\n",
       "      <td>1.322208</td>\n",
       "      <td>1.401324</td>\n",
       "      <td>1.494923</td>\n",
       "      <td>1.587770</td>\n",
       "      <td>1.695932</td>\n",
       "    </tr>\n",
       "  </tbody>\n",
       "</table>\n",
       "</div>"
      ],
      "text/plain": [
       "                                    2008      2009      2010      2011  \\\n",
       "Population, total                    1.0  1.009891  1.020352  1.031472   \n",
       "GDP per capita (constant 2010 US$)   1.0  1.043656  1.099305  1.155315   \n",
       "GDP (constant 2010 US$)              1.0  1.053979  1.121679  1.191675   \n",
       "\n",
       "                                        2012      2013      2014      2015  \\\n",
       "Population, total                   1.043180  1.055242  1.067319  1.079160   \n",
       "GDP per capita (constant 2010 US$)  1.202291  1.252990  1.312938  1.385265   \n",
       "GDP (constant 2010 US$)             1.254206  1.322208  1.401324  1.494923   \n",
       "\n",
       "                                        2016      2017  \n",
       "Population, total                   1.090664  1.101871  \n",
       "GDP per capita (constant 2010 US$)  1.455783  1.539139  \n",
       "GDP (constant 2010 US$)             1.587770  1.695932  "
      ]
     },
     "execution_count": 110,
     "metadata": {},
     "output_type": "execute_result"
    }
   ],
   "source": [
    "ratio =  pd.DataFrame(data.values / data.iloc[:, [0]].values, index=data.index, columns=data.columns)\n",
    "ratio"
   ]
  },
  {
   "cell_type": "code",
   "execution_count": 154,
   "metadata": {},
   "outputs": [],
   "source": [
    "gdp_ratio_2017 = ratio.loc['GDP (constant 2010 US$)', '2017']\n",
    "pop_ratio2017 = ratio.loc['Population, total', '2017']\n",
    "capita_ratio2017 = ratio.loc['GDP per capita (constant 2010 US$)', '2017']"
   ]
  },
  {
   "cell_type": "code",
   "execution_count": 240,
   "metadata": {},
   "outputs": [
    {
     "data": {
      "image/png": "[encoded data removed]",
      "text/plain": [
       "<Figure size 432x288 with 1 Axes>"
      ]
     },
     "metadata": {},
     "output_type": "display_data"
    }
   ],
   "source": [
    "fig, ax = plt.subplots()\n",
    "ax.plot(ratio.iloc[2], label='GDP', lw=3, color='b')\n",
    "ax.plot(ratio.iloc[0], label='Population', lw=3, color='r')\n",
    "ax.plot(ratio.iloc[1], label='GDP per capita', lw=3, color='purple')\n",
    "ax.text(9.2, gdp_ratio_2017, f'GDP: $175B = {round(gdp_ratio_2017, 2)}x growth', transform=ax.transData, color='blue', size=12, weight='bold')\n",
    "ax.text(9.2, pop_ratio2017, f'Population: 96M = {round(pop_ratio2017, 2)}x growth', transform=ax.transData, color='red', size=12, weight='bold')\n",
    "ax.text(9.2, capita_ratio2017, f'GDP per capita: $1835 = {round(capita_ratio2017, 2)}x growth', transform=ax.transData, color='purple', size=12, weight='bold')\n",
    "ax.text(9.2, gdp_ratio_2017 + 0.07, 'In 2017', transform=ax.transData, color='black', size=12)\n",
    "ax.spines['right'].set_color('white')\n",
    "ax.spines['left'].set_color('white')\n",
    "ax.spines['top'].set_color('white')\n",
    "ax.spines['top'].set_color('white')\n",
    "ax.set_ylim([1, 2])\n",
    "ax.set_yticks([1, 1.5, 2])\n",
    "ax.set_xlabel('Year', size=13, weight='bold')\n",
    "ax.set_ylabel('Growth from 2008', size=13, weight='bold')\n",
    "ax.set_title('GDP growth relative to population growth\\nfrom 2008 to 2017 in Vietnam', size=15, weight='bold')\n",
    "plt.show()"
   ]
  }
 ],
 "metadata": {
  "kernelspec": {
   "display_name": "Python 3",
   "language": "python",
   "name": "python3"
  },
  "language_info": {
   "codemirror_mode": {
    "name": "ipython",
    "version": 3
   },
   "file_extension": ".py",
   "mimetype": "text/x-python",
   "name": "python",
   "nbconvert_exporter": "python",
   "pygments_lexer": "ipython3",
   "version": "3.6.5"
  }
 },
 "nbformat": 4,
 "nbformat_minor": 2
}
